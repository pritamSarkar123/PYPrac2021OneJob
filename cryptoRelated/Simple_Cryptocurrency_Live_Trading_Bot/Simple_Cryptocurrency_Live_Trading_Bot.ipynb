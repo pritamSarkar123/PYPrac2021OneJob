{
 "cells": [
  {
   "cell_type": "markdown",
   "metadata": {},
   "source": [
    "https://www.youtube.com/watch?v=rc_Y6rdBqXM&list=PLuueT5PsexC_sbKOFJUHZL7MUdt7G080H&index=87"
   ]
  },
  {
   "cell_type": "markdown",
   "metadata": {},
   "source": [
    "# For granula level data"
   ]
  },
  {
   "cell_type": "code",
   "execution_count": 40,
   "metadata": {},
   "outputs": [
    {
     "name": "stdout",
     "output_type": "stream",
     "text": [
      "Requirement already satisfied: asyncio in c:\\users\\prita\\appdata\\local\\programs\\python\\python38\\lib\\site-packages (3.4.3)"
     ]
    },
    {
     "name": "stderr",
     "output_type": "stream",
     "text": [
      "WARNING: You are using pip version 21.1.1; however, version 21.2.4 is available.\n",
      "You should consider upgrading via the 'c:\\users\\prita\\appdata\\local\\programs\\python\\python38\\python.exe -m pip install --upgrade pip' command.\n"
     ]
    },
    {
     "name": "stdout",
     "output_type": "stream",
     "text": [
      "\n"
     ]
    }
   ],
   "source": [
    "!pip install asyncio"
   ]
  },
  {
   "cell_type": "code",
   "execution_count": 41,
   "metadata": {},
   "outputs": [],
   "source": [
    "import pandas as pd \n",
    "import sqlalchemy \n",
    "from binance.client import Client\n",
    "from binance import BinanceSocketManager\n",
    "import asyncio"
   ]
  },
  {
   "cell_type": "code",
   "execution_count": 42,
   "metadata": {},
   "outputs": [],
   "source": [
    "FEED_DATA = True"
   ]
  },
  {
   "cell_type": "code",
   "execution_count": 43,
   "metadata": {},
   "outputs": [],
   "source": [
    "def createframe(msg):\n",
    "    df = pd.DataFrame([msg])\n",
    "    df = df.loc[:,['s','E','p']]\n",
    "    df.columns = ['symbol','Time','Price']\n",
    "    df.Price = df.Price.astype(float)\n",
    "    df.Time = pd.to_datetime(df.Time,unit='ms')\n",
    "    return df"
   ]
  },
  {
   "cell_type": "code",
   "execution_count": 44,
   "metadata": {},
   "outputs": [],
   "source": [
    "# async def feed_continuous_live_data(coin=\"BTCUSDT\"):\n",
    "#     global FEED_DATA\n",
    "#     api_key = \"1XrUgREgohaYXQxRomXGjdDgJchlHSziqOUmqxsUw2r7WOusHQYIbf71k6wECC3w\"\n",
    "#     api_secret = \"8O5kUT3TvQetvhweojMQDYsq9N90VlyJpcsIPI5TxzTn4umOtWZGiaaVq3p4Hpjd\"\n",
    "#     client = Client(api_key=api_key,api_secret=api_secret)\n",
    "#     bsm = BinanceSocketManager(client)\n",
    "#     socket = bsm.trade_socket(coin)\n",
    "#     engine = sqlalchemy.create_engine(f'sqlite:///databases/{coin}stream.db')\n",
    "    \n",
    "#     for _ in range(1000):\n",
    "#         await socket.__aenter__()\n",
    "#         msg = await socket.recv()\n",
    "#         frame = createframe(msg)\n",
    "#         frame.to_sql(coin,engine,if_exists='append',index=False)\n",
    "    "
   ]
  },
  {
   "cell_type": "code",
   "execution_count": 45,
   "metadata": {},
   "outputs": [],
   "source": [
    "# def main():\n",
    "#     coin = \"BTCUSDT\"\n",
    "#     asyncio.run(feed_continuous_live_data(coin))"
   ]
  },
  {
   "cell_type": "code",
   "execution_count": 46,
   "metadata": {},
   "outputs": [],
   "source": [
    "coin = \"BTCUSDT\"\n",
    "api_key = \"1XrUgREgohaYXQxRomXGjdDgJchlHSziqOUmqxsUw2r7WOusHQYIbf71k6wECC3w\"\n",
    "api_secret = \"8O5kUT3TvQetvhweojMQDYsq9N90VlyJpcsIPI5TxzTn4umOtWZGiaaVq3p4Hpjd\"\n",
    "client = Client(api_key=api_key,api_secret=api_secret)\n",
    "bsm = BinanceSocketManager(client)\n",
    "socket = bsm.trade_socket(coin)\n",
    "engine = sqlalchemy.create_engine(f'sqlite:///databases/{coin}stream.db')\n",
    "\n",
    "for _ in range(50):\n",
    "    await socket.__aenter__()\n",
    "    msg = await socket.recv()\n",
    "    frame = createframe(msg)\n",
    "    frame.to_sql(coin,engine,if_exists='append',index=False)"
   ]
  },
  {
   "cell_type": "markdown",
   "metadata": {},
   "source": [
    "# Another script"
   ]
  },
  {
   "cell_type": "code",
   "execution_count": 47,
   "metadata": {},
   "outputs": [
    {
     "data": {
      "text/html": [
       "<div>\n",
       "<style scoped>\n",
       "    .dataframe tbody tr th:only-of-type {\n",
       "        vertical-align: middle;\n",
       "    }\n",
       "\n",
       "    .dataframe tbody tr th {\n",
       "        vertical-align: top;\n",
       "    }\n",
       "\n",
       "    .dataframe thead th {\n",
       "        text-align: right;\n",
       "    }\n",
       "</style>\n",
       "<table border=\"1\" class=\"dataframe\">\n",
       "  <thead>\n",
       "    <tr style=\"text-align: right;\">\n",
       "      <th></th>\n",
       "      <th>symbol</th>\n",
       "      <th>Time</th>\n",
       "      <th>Price</th>\n",
       "    </tr>\n",
       "  </thead>\n",
       "  <tbody>\n",
       "    <tr>\n",
       "      <th>0</th>\n",
       "      <td>BTCUSDT</td>\n",
       "      <td>2021-10-11 16:15:02.349</td>\n",
       "      <td>57597.02</td>\n",
       "    </tr>\n",
       "    <tr>\n",
       "      <th>1</th>\n",
       "      <td>BTCUSDT</td>\n",
       "      <td>2021-10-11 16:15:02.349</td>\n",
       "      <td>57597.02</td>\n",
       "    </tr>\n",
       "    <tr>\n",
       "      <th>2</th>\n",
       "      <td>BTCUSDT</td>\n",
       "      <td>2021-10-11 16:15:02.349</td>\n",
       "      <td>57597.02</td>\n",
       "    </tr>\n",
       "    <tr>\n",
       "      <th>3</th>\n",
       "      <td>BTCUSDT</td>\n",
       "      <td>2021-10-11 16:15:02.349</td>\n",
       "      <td>57597.02</td>\n",
       "    </tr>\n",
       "    <tr>\n",
       "      <th>4</th>\n",
       "      <td>BTCUSDT</td>\n",
       "      <td>2021-10-11 16:15:02.349</td>\n",
       "      <td>57597.02</td>\n",
       "    </tr>\n",
       "    <tr>\n",
       "      <th>5</th>\n",
       "      <td>BTCUSDT</td>\n",
       "      <td>2021-10-11 16:15:02.349</td>\n",
       "      <td>57600.00</td>\n",
       "    </tr>\n",
       "    <tr>\n",
       "      <th>6</th>\n",
       "      <td>BTCUSDT</td>\n",
       "      <td>2021-10-11 16:15:02.349</td>\n",
       "      <td>57601.98</td>\n",
       "    </tr>\n",
       "    <tr>\n",
       "      <th>7</th>\n",
       "      <td>BTCUSDT</td>\n",
       "      <td>2021-10-11 16:15:02.349</td>\n",
       "      <td>57601.98</td>\n",
       "    </tr>\n",
       "    <tr>\n",
       "      <th>8</th>\n",
       "      <td>BTCUSDT</td>\n",
       "      <td>2021-10-11 16:15:02.349</td>\n",
       "      <td>57601.98</td>\n",
       "    </tr>\n",
       "    <tr>\n",
       "      <th>9</th>\n",
       "      <td>BTCUSDT</td>\n",
       "      <td>2021-10-11 16:15:02.349</td>\n",
       "      <td>57601.98</td>\n",
       "    </tr>\n",
       "  </tbody>\n",
       "</table>\n",
       "</div>"
      ],
      "text/plain": [
       "    symbol                    Time     Price\n",
       "0  BTCUSDT 2021-10-11 16:15:02.349  57597.02\n",
       "1  BTCUSDT 2021-10-11 16:15:02.349  57597.02\n",
       "2  BTCUSDT 2021-10-11 16:15:02.349  57597.02\n",
       "3  BTCUSDT 2021-10-11 16:15:02.349  57597.02\n",
       "4  BTCUSDT 2021-10-11 16:15:02.349  57597.02\n",
       "5  BTCUSDT 2021-10-11 16:15:02.349  57600.00\n",
       "6  BTCUSDT 2021-10-11 16:15:02.349  57601.98\n",
       "7  BTCUSDT 2021-10-11 16:15:02.349  57601.98\n",
       "8  BTCUSDT 2021-10-11 16:15:02.349  57601.98\n",
       "9  BTCUSDT 2021-10-11 16:15:02.349  57601.98"
      ]
     },
     "execution_count": 47,
     "metadata": {},
     "output_type": "execute_result"
    }
   ],
   "source": [
    "coin = \"BTCUSDT\"\n",
    "df = pd.read_sql(coin,engine)\n",
    "df.head(10)"
   ]
  },
  {
   "cell_type": "code",
   "execution_count": 48,
   "metadata": {},
   "outputs": [
    {
     "data": {
      "text/plain": [
       "<AxesSubplot:>"
      ]
     },
     "execution_count": 48,
     "metadata": {},
     "output_type": "execute_result"
    },
    {
     "data": {
      "image/png": "[encoded data removed]",
      "text/plain": [
       "<Figure size 432x288 with 1 Axes>"
      ]
     },
     "metadata": {
      "needs_background": "light"
     },
     "output_type": "display_data"
    }
   ],
   "source": [
    "df.Price.plot()"
   ]
  },
  {
   "cell_type": "code",
   "execution_count": 49,
   "metadata": {},
   "outputs": [],
   "source": [
    "# Trend following\n",
    "# if the crypto was rising by x% -> buy\n",
    "# exit when profit is above 0.15% or less is crossing -0.15%"
   ]
  },
  {
   "cell_type": "code",
   "execution_count": 50,
   "metadata": {},
   "outputs": [],
   "source": [
    "def strategy(entry,lookback,qty,open_position=False,coin = \"BTCUSDT\"):\n",
    "    while True:\n",
    "        df = pd.read_sql(coin,engine)\n",
    "        lookbackperiod = df[-lookback:]\n",
    "        cumret = (lookbackperiod.Price.pct_change()+1).cumprod()-1\n",
    "        if not open_position:\n",
    "            if cumret[cumret.last_valid_index()] > entry:\n",
    "                order = client.order(symbol=coin,\n",
    "                                     side='BUY',\n",
    "                                     type='MARKET',\n",
    "                                     quantity=qty)\n",
    "                print(order)\n",
    "                open_position = True \n",
    "                break\n",
    "    if open_position:\n",
    "        while True:\n",
    "            df = pd.read_sql(coin,engine)\n",
    "            sincebuy = df.loc[df.Time > pd.to_datetime(order['transactTime'],unit='ms')]\n",
    "            if len(sincebuy) > 1:\n",
    "                sincebuyret = (sincebuy.Price.pct_change()+1).cumprod()-1\n",
    "                last_entry = sincebuyret[sincebuyret.last_valid_index()]\n",
    "                if last_entry > 0.0015 or last_entry < -0.0015:\n",
    "                    order = client.order(symbol=coin,\n",
    "                                     side='SELL',\n",
    "                                     type='MARKET',\n",
    "                                     quantity=qty)\n",
    "                    print(order)\n",
    "                    break \n",
    "                    \n",
    "                \n",
    "        "
   ]
  },
  {
   "cell_type": "code",
   "execution_count": null,
   "metadata": {},
   "outputs": [],
   "source": []
  },
  {
   "cell_type": "code",
   "execution_count": 51,
   "metadata": {},
   "outputs": [],
   "source": [
    "# strategy(0.001,60,0.001) #60 sec"
   ]
  }
 ],
 "metadata": {
  "interpreter": {
   "hash": "08f4676b2e4aa106f3f44f076be63fe0cf9b1f57ee9f6bbbd5acb3d698070817"
  },
  "kernelspec": {
   "display_name": "Python 3.8.10 64-bit",
   "name": "python3"
  },
  "language_info": {
   "codemirror_mode": {
    "name": "ipython",
    "version": 3
   },
   "file_extension": ".py",
   "mimetype": "text/x-python",
   "name": "python",
   "nbconvert_exporter": "python",
   "pygments_lexer": "ipython3",
   "version": "3.8.10"
  },
  "orig_nbformat": 4
 },
 "nbformat": 4,
 "nbformat_minor": 2
}
