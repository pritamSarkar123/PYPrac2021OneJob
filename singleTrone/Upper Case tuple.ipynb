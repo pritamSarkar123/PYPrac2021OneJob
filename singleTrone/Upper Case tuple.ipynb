{
 "cells": [
  {
   "cell_type": "code",
   "execution_count": 2,
   "id": "f5fd17d6",
   "metadata": {},
   "outputs": [
    {
     "name": "stdout",
     "output_type": "stream",
     "text": [
      "('PRITAM', 'SARKAR')\n"
     ]
    }
   ],
   "source": [
    "class UpperCaseTuple(tuple):\n",
    "    def __new__(cls,iterable):\n",
    "        upper_iterable = (s.upper() for s in iterable)\n",
    "        return super().__new__(cls,upper_iterable)\n",
    "    \n",
    "print(UpperCaseTuple([\"pritam\",\"sarkar\"]))"
   ]
  },
  {
   "cell_type": "code",
   "execution_count": null,
   "id": "e960fec6",
   "metadata": {},
   "outputs": [],
   "source": []
  }
 ],
 "metadata": {
  "kernelspec": {
   "display_name": "Python 3 (ipykernel)",
   "language": "python",
   "name": "python3"
  },
  "language_info": {
   "codemirror_mode": {
    "name": "ipython",
    "version": 3
   },
   "file_extension": ".py",
   "mimetype": "text/x-python",
   "name": "python",
   "nbconvert_exporter": "python",
   "pygments_lexer": "ipython3",
   "version": "3.8.10"
  }
 },
 "nbformat": 4,
 "nbformat_minor": 5
}
