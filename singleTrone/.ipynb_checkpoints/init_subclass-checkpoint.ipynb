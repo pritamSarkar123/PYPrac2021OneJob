{
 "cells": [
  {
   "cell_type": "code",
   "execution_count": 4,
   "id": "e7753761",
   "metadata": {},
   "outputs": [
    {
     "name": "stdout",
     "output_type": "stream",
     "text": [
      "default_name = 'SubClass'\n",
      "called ..\n",
      "Inherited Class\n"
     ]
    }
   ],
   "source": [
    "class SuperClass:\n",
    "  \n",
    "     # defining __init_subclass__ method\n",
    "    def __init_subclass__(cls, **kwargs):\n",
    "        print(\"called ..\")\n",
    "        cls.default_name =\"Inherited Class\"\n",
    "  \n",
    "# defining a SubClass\n",
    "class SubClass(SuperClass):\n",
    "  \n",
    "     # an attribute of SubClass\n",
    "    default_name =\"SubClass\" \n",
    "    print(f\"{default_name = }\")\n",
    "  \n",
    "subclass = SubClass()\n",
    "print(subclass.default_name)"
   ]
  },
  {
   "cell_type": "code",
   "execution_count": 5,
   "id": "39497e6e",
   "metadata": {},
   "outputs": [
    {
     "name": "stdout",
     "output_type": "stream",
     "text": [
      "SubClass1\n",
      "SubClass2\n"
     ]
    }
   ],
   "source": [
    "\n",
    "# defining a SuperClass\n",
    "class SuperClass:\n",
    "    def __init_subclass__(cls, default_name, **kwargs):\n",
    "        cls.default_name = default_name\n",
    "  \n",
    "# defining a subclass\n",
    "class SubClass1(SuperClass, default_name =\"SubClass1\"):\n",
    "    pass\n",
    "  \n",
    "# defining another subclass\n",
    "class SubClass2(SuperClass, default_name =\"SubClass2\"):\n",
    "    default_name = \"InheritedClass\"\n",
    "  \n",
    "  \n",
    "# references for subclasses\n",
    "subClass1 = SubClass1()\n",
    "subClass2 = SubClass2()\n",
    "  \n",
    "print(subClass1.default_name)\n",
    "print(subClass2.default_name)"
   ]
  },
  {
   "cell_type": "code",
   "execution_count": null,
   "id": "24f52b76",
   "metadata": {},
   "outputs": [],
   "source": []
  }
 ],
 "metadata": {
  "kernelspec": {
   "display_name": "Python 3 (ipykernel)",
   "language": "python",
   "name": "python3"
  },
  "language_info": {
   "codemirror_mode": {
    "name": "ipython",
    "version": 3
   },
   "file_extension": ".py",
   "mimetype": "text/x-python",
   "name": "python",
   "nbconvert_exporter": "python",
   "pygments_lexer": "ipython3",
   "version": "3.8.10"
  }
 },
 "nbformat": 4,
 "nbformat_minor": 5
}
