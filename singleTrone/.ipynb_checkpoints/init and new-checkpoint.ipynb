{
 "cells": [
  {
   "cell_type": "markdown",
   "id": "3c07a90a",
   "metadata": {},
   "source": [
    "# 1"
   ]
  },
  {
   "cell_type": "code",
   "execution_count": 40,
   "id": "697f5c33",
   "metadata": {},
   "outputs": [],
   "source": [
    "class Triangle:\n",
    "    def __init__(self, base, height):\n",
    "        self.base = base\n",
    "        self.height = height\n",
    " \n",
    "    def area(self):\n",
    "        return (self.base * self.height) / 2"
   ]
  },
  {
   "cell_type": "code",
   "execution_count": 41,
   "id": "e2721517",
   "metadata": {},
   "outputs": [],
   "source": [
    "class Square:\n",
    "    def __init__(self, length):\n",
    "        self.length = length\n",
    " \n",
    "    def area(self):\n",
    "        return self.length*self.length"
   ]
  },
  {
   "cell_type": "code",
   "execution_count": 42,
   "id": "c5c49209",
   "metadata": {},
   "outputs": [],
   "source": [
    "# Use __new__ when you need to control the creation of a new instance. Use __init__ when you need to control initialization of a new instance.\n",
    "\n",
    "class Shape:\n",
    "    def __new__(cls,sides,*args,**kwargs):\n",
    "        print(args,kwargs)\n",
    "        if sides == 3:\n",
    "            return Triangle(*args,**kwargs)\n",
    "        elif sides == 4:\n",
    "            return Square(*args,**kwargs)\n",
    "        else:\n",
    "            return None\n",
    "        "
   ]
  },
  {
   "cell_type": "code",
   "execution_count": 43,
   "id": "326e3714",
   "metadata": {},
   "outputs": [
    {
     "name": "stdout",
     "output_type": "stream",
     "text": [
      "() {'base': 2, 'height': 12}\n",
      "() {'length': 2}\n",
      "<class '__main__.Triangle'>\n",
      "12.0\n",
      "<class '__main__.Square'>\n",
      "4\n"
     ]
    }
   ],
   "source": [
    "a = Shape(sides=3, base=2, height=12)\n",
    "b = Shape(sides=4, length=2)\n",
    "\n",
    "print(a.__class__)\n",
    "print(a.area())\n",
    "\n",
    "print(b.__class__)\n",
    "print(b.area())"
   ]
  },
  {
   "cell_type": "markdown",
   "id": "ccf91b79",
   "metadata": {},
   "source": [
    "# 2"
   ]
  },
  {
   "cell_type": "markdown",
   "id": "5e1e6fca",
   "metadata": {},
   "source": [
    "# standard ****"
   ]
  },
  {
   "cell_type": "code",
   "execution_count": 44,
   "id": "3143fb70",
   "metadata": {},
   "outputs": [
    {
     "name": "stdout",
     "output_type": "stream",
     "text": [
      "new method called , object creation happning cls = <class '__main__.A'>\n",
      "init method called , initialization happning self = <__main__.A object at 0x0000024A8A703640> 5 6 7 abc=87\n"
     ]
    }
   ],
   "source": [
    "class A:\n",
    "    def __new__(cls,a,b,c,abc):\n",
    "        print(f\"new method called , object creation happning {cls = }\")\n",
    "        return object.__new__(cls)\n",
    "    def __init__(self,a,b,c,abc):\n",
    "        print(f\"init method called , initialization happning {self = } {a} {b} {c} {abc=}\")\n",
    "        \n",
    "a = A(5,6,7,abc=87)"
   ]
  },
  {
   "cell_type": "code",
   "execution_count": 45,
   "id": "fca4884b",
   "metadata": {},
   "outputs": [
    {
     "name": "stdout",
     "output_type": "stream",
     "text": [
      "new method called , object creation happning cls = <class '__main__.A'>\n",
      "init method called , initialization happning self = <__main__.A object at 0x0000024A8A71D160> args = (5, 6, 7) kwargs = {'abc': 87}\n"
     ]
    }
   ],
   "source": [
    "class A:\n",
    "    def __new__(cls,a,b,c,abc):\n",
    "        print(f\"new method called , object creation happning {cls = }\")\n",
    "        return object.__new__(cls)\n",
    "    def __init__(self,*args,**kwargs):\n",
    "        print(f\"init method called , initialization happning {self = } {args = } {kwargs = }\")\n",
    "        \n",
    "a = A(5,6,7,abc=87)"
   ]
  },
  {
   "cell_type": "code",
   "execution_count": 46,
   "id": "1fb1a76c",
   "metadata": {},
   "outputs": [
    {
     "name": "stdout",
     "output_type": "stream",
     "text": [
      "new method called , object creation happning cls = <class '__main__.A'> args = () kwargs = {}\n",
      "init method called , initialization happning self = <__main__.A object at 0x0000024A8A71D910> args = () kwargs = {}\n"
     ]
    }
   ],
   "source": [
    "class A:\n",
    "    def __new__(cls,a,b,c,abc,*args,**kwargs):\n",
    "        print(f\"new method called , object creation happning {cls = } {args = } {kwargs = }\")\n",
    "        return object.__new__(cls,*args,**kwargs)\n",
    "    def __init__(self,a,b,c,abc,*args,**kwargs):\n",
    "        print(f\"init method called , initialization happning {self = } {args = } {kwargs = }\")\n",
    "        \n",
    "a = A(5,6,7,abc=87)"
   ]
  },
  {
   "cell_type": "code",
   "execution_count": null,
   "id": "dd5e63af",
   "metadata": {},
   "outputs": [],
   "source": []
  }
 ],
 "metadata": {
  "kernelspec": {
   "display_name": "Python 3 (ipykernel)",
   "language": "python",
   "name": "python3"
  },
  "language_info": {
   "codemirror_mode": {
    "name": "ipython",
    "version": 3
   },
   "file_extension": ".py",
   "mimetype": "text/x-python",
   "name": "python",
   "nbconvert_exporter": "python",
   "pygments_lexer": "ipython3",
   "version": "3.8.10"
  }
 },
 "nbformat": 4,
 "nbformat_minor": 5
}
