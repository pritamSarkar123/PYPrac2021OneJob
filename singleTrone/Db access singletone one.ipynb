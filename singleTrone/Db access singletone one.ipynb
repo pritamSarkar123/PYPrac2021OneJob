{
 "cells": [
  {
   "cell_type": "code",
   "execution_count": 59,
   "id": "7ced9de7",
   "metadata": {},
   "outputs": [],
   "source": [
    "# strict\n",
    "\n",
    "class DbAccess:\n",
    "    __instance = None\n",
    "    def __new__(cls,name=\"\",age=\"\",nationality=\"\",*args,**kwargs):\n",
    "        if cls.__instance is None:\n",
    "            cls.__instance=object.__new__(cls,*args,**kwargs)\n",
    "            cls.__instance.name=name\n",
    "            cls.__instance.age=age\n",
    "            cls.__instance.nationality=nationality\n",
    "        return cls.__instance\n",
    "    \n",
    "    def __str__(self):\n",
    "        return f\" {DbAccess.__instance.name} {DbAccess.__instance.age} {DbAccess.__instance.nationality}\"\n",
    "    @classmethod\n",
    "    def update(cls,name=\"\",age=\"\",nationality=\"\"):\n",
    "        if name != \"\":\n",
    "            cls.__updateName(name)\n",
    "        if nationality != \"\":\n",
    "            cls.__updateNationality(nationality)\n",
    "        if age!=\"\":\n",
    "            cls.__updateAge(age)\n",
    "\n",
    "    @classmethod\n",
    "    def __updateName(cls, name):\n",
    "        cls.__instance.name = name\n",
    "    @classmethod\n",
    "    def __updateAge(cls,age):\n",
    "        cls.__instance.age = age\n",
    "    @classmethod\n",
    "    def __updateNationality(cls,nationality):\n",
    "        cls.__instance.nationality = nationality\n",
    "            "
   ]
  },
  {
   "cell_type": "code",
   "execution_count": 60,
   "id": "b876e76b",
   "metadata": {},
   "outputs": [
    {
     "name": "stdout",
     "output_type": "stream",
     "text": [
      " Pritam Sarkar 26 indian\n",
      " Pritam Sarkar 26 indian\n",
      " Pritam Sarkar 26 indian\n",
      " Pritam Sarkar 26 indian\n",
      "True\n",
      "True\n",
      " Eshani Jas 27 BG\n",
      " Eshani Jas 27 BG\n"
     ]
    }
   ],
   "source": [
    "db=DbAccess(\"Pritam Sarkar\",\"26\",\"indian\")\n",
    "print(db)\n",
    "db1=DbAccess(\"Pritam\") # No change occurs\n",
    "print(db1)\n",
    "\n",
    "print(db)\n",
    "print(db1)\n",
    "\n",
    "print(db == db1)\n",
    "\n",
    "db1.update(\"Eshani Jas\",\"27\",\"BG\")\n",
    "print(db1==db) #True \n",
    "print(db1) # Eshani Jas 27 BG\n",
    "print(db) # Eshani Jas 27 BG"
   ]
  },
  {
   "cell_type": "code",
   "execution_count": 61,
   "id": "8a190a63",
   "metadata": {},
   "outputs": [
    {
     "name": "stdout",
     "output_type": "stream",
     "text": [
      " DbConnect.__instance.username = 'Pritam' DbConnect.__instance.password = 'sarkar123' DbConnect.__instance.host = 'localhost' DbConnect.__instance.port = '8080'\n",
      " DbConnect.__instance.username = 'Pritam' DbConnect.__instance.password = 'sarkar123' DbConnect.__instance.host = 'localhost' DbConnect.__instance.port = '8080'\n",
      "True\n",
      "1341835430160 1341835430160\n"
     ]
    }
   ],
   "source": [
    "# non strict\n",
    "class DbConnect:\n",
    "    __instance = None\n",
    "    def __new__(cls,username=\"\",password=\"\",host=\"\",port=\"\",*args,**kwargs):\n",
    "        if cls.__instance is None:\n",
    "            cls.__instance = object.__new__(cls,*args,**kwargs)\n",
    "            cls.__instance.username=username\n",
    "            cls.__instance.password=password\n",
    "            cls.__instance.host=host\n",
    "            cls.__instance.port=port\n",
    "        return cls.__instance\n",
    "    def __str__(self):\n",
    "        return f\" {DbConnect.__instance.username = } {DbConnect.__instance.password = } {DbConnect.__instance.host = } {DbConnect.__instance.port = }\"\n",
    "\n",
    "db1=DbConnect(\"Pritam\",\"sarkar123\",\"localhost\",\"8080\")\n",
    "print(db1)\n",
    "db2=DbConnect(\"Pritam\")\n",
    "print(db2)\n",
    "print(db2==db1)\n",
    "\n",
    "print(id(db1),id(db2))\n",
    "\n",
    "# Pritam sarkar123 localhost 8080\n",
    "#  Pritam   \n",
    "# True"
   ]
  },
  {
   "cell_type": "code",
   "execution_count": null,
   "id": "56508395",
   "metadata": {},
   "outputs": [],
   "source": []
  },
  {
   "cell_type": "markdown",
   "id": "14c9125c",
   "metadata": {},
   "source": [
    "# in general"
   ]
  },
  {
   "cell_type": "code",
   "execution_count": 62,
   "id": "1c7ecd3d",
   "metadata": {},
   "outputs": [
    {
     "name": "stdout",
     "output_type": "stream",
     "text": [
      "self.__instance.name = 'Pritam'\n",
      "self.__instance.name = 'Pritam'\n",
      "True\n",
      "1341822741328 1341822741328\n"
     ]
    }
   ],
   "source": [
    "class SingleTone:\n",
    "    __instance = None\n",
    "    \n",
    "    def __new__(cls,name=\"\",*args,**kwargs):\n",
    "        if not cls.__instance:\n",
    "            cls.__instance = object.__new__(cls,*args,**kwargs)\n",
    "            cls.__instance.name = name\n",
    "        return cls.__instance\n",
    "    \n",
    "    def __str__(self):\n",
    "        return f\"{self.__instance.name = }\"\n",
    "    \n",
    "    \n",
    "a = SingleTone(\"Pritam\")\n",
    "print(a)\n",
    "b = SingleTone(\"Sarkar\")\n",
    "print(b)\n",
    "\n",
    "\n",
    "print(a == b)\n",
    "print(id(a),id(b))"
   ]
  },
  {
   "cell_type": "markdown",
   "id": "ad5ab9a1",
   "metadata": {},
   "source": [
    "# Using set of objects"
   ]
  },
  {
   "cell_type": "code",
   "execution_count": 70,
   "id": "d7fb186d",
   "metadata": {},
   "outputs": [],
   "source": [
    "class DbAccessCatalog:\n",
    "    __instance = set()\n",
    "    __instance_max_limit=5\n",
    "    def __new__(cls,*args,**kwargs):\n",
    "        if len(cls.__instance) < cls.__instance_max_limit:\n",
    "            instance=DbAccess(*args,access=\"granted\",**kwargs)\n",
    "            cls.__instance.add(instance)\n",
    "            return instance\n",
    "        return None \n",
    "\n",
    "    @classmethod\n",
    "    def showAllInstances(cls):\n",
    "        return f\" {cls.__instance}\"\n",
    "\n",
    "    @classmethod\n",
    "    def removeInstance(cls,obj: \"DbAccess\"):\n",
    "        obj.access=\"denied\"\n",
    "        cls.__instance.discard(obj)\n",
    "\n",
    "    @classmethod\n",
    "    def getAccess(cls,obj):\n",
    "        if obj in DbAccessCatalog._DbAccessCatalog__instance:\n",
    "            print(\"Access Granted\")\n",
    "        else:\n",
    "            print(\"Access Denied\")"
   ]
  },
  {
   "cell_type": "code",
   "execution_count": 71,
   "id": "bc3f1ce0",
   "metadata": {},
   "outputs": [],
   "source": [
    "class DbAccess:\n",
    "    def __init__(self,name=\"\",age=\"\",nationality=\"\",access=\"denied\"):\n",
    "        self.name = name;self.age = age;self.nationality = nationality\n",
    "        self.access = access\n",
    "    def __str__(self):\n",
    "        return f\"{self.name}:{self.age}:{self.nationality}:{self.access}\"\n",
    "    def __hash__(self):\n",
    "        # parent hash will be its hash then\n",
    "        # return \n",
    "        return hash((self.name, self.age, self.nationality))\n",
    "    def __eq__(self, other):\n",
    "        if other is None:\n",
    "            return False\n",
    "        if not isinstance(other,DbAccess):\n",
    "            return False\n",
    "        if hash(self) != hash(other):\n",
    "            return False\n",
    "        if self.name==other.name and self.age == other.age and self.nationality == other.nationality and self.access == other.access:\n",
    "            return True\n",
    "        return True\n",
    "    __repr__ = __str__"
   ]
  },
  {
   "cell_type": "code",
   "execution_count": 72,
   "id": "a7ea4b1f",
   "metadata": {},
   "outputs": [
    {
     "name": "stdout",
     "output_type": "stream",
     "text": [
      "pritam:27:indian:granted vanu:27:bangladesi:granted eshani:27:ghoti:granted rahul:28:gandu:granted pujki:26:sreerampur:granted None\n",
      "pritam:27:indian:granted eshani:27:ghoti:granted rahul:28:gandu:granted pujki:26:sreerampur:granted pona:26:auto:granted vanu:27:bangladesi:denied\n",
      "Access Granted\n",
      "Access Denied\n",
      "Access Granted\n",
      "True\n",
      "False\n",
      "-8146877371460421750\n",
      "-157226823936187544\n",
      "pritam:27:indian:granted\n",
      "vanu:27:bangladesi:denied\n",
      "eshani:27:ghoti:granted\n",
      "-8637111571893987556\n",
      "-8637111571893987556\n"
     ]
    }
   ],
   "source": [
    "a=DbAccessCatalog(\"pritam\",27,\"indian\")\n",
    "b=DbAccessCatalog(\"vanu\",27,\"bangladesi\")\n",
    "c=DbAccessCatalog(\"eshani\",27,\"ghoti\")\n",
    "d=DbAccessCatalog(\"rahul\",28,\"gandu\")\n",
    "e=DbAccessCatalog(\"pujki\",26,\"sreerampur\")\n",
    "f=DbAccessCatalog(\"pona\",26,\"auto\")\n",
    "\n",
    "print(a,b,c,d,e,f)\n",
    "\n",
    "DbAccessCatalog.removeInstance(b)\n",
    "\n",
    "f=DbAccessCatalog(\"pona\",26,\"auto\")\n",
    "\n",
    "print(a,c,d,e,f,b)\n",
    "\n",
    "# print(dir(DbAccessCatalog))\n",
    "\n",
    "DbAccessCatalog.getAccess(a)\n",
    "DbAccessCatalog.getAccess(b)\n",
    "DbAccessCatalog.getAccess(c)\n",
    "\n",
    "print(a==a)\n",
    "print(a==b)\n",
    "print(hash(a))\n",
    "print(hash(b))\n",
    "\n",
    "print(a)\n",
    "print(b)\n",
    "print(c)\n",
    "\n",
    "print(hash(\"Pritam\"))\n",
    "print(hash(\"Pritam\"))\n"
   ]
  },
  {
   "cell_type": "code",
   "execution_count": null,
   "id": "6e1ac944",
   "metadata": {},
   "outputs": [],
   "source": []
  }
 ],
 "metadata": {
  "kernelspec": {
   "display_name": "Python 3 (ipykernel)",
   "language": "python",
   "name": "python3"
  },
  "language_info": {
   "codemirror_mode": {
    "name": "ipython",
    "version": 3
   },
   "file_extension": ".py",
   "mimetype": "text/x-python",
   "name": "python",
   "nbconvert_exporter": "python",
   "pygments_lexer": "ipython3",
   "version": "3.8.10"
  }
 },
 "nbformat": 4,
 "nbformat_minor": 5
}
