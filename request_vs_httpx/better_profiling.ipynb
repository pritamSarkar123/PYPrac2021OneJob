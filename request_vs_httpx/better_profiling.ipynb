{
 "cells": [
  {
   "cell_type": "code",
   "execution_count": 2,
   "id": "1e4350bc",
   "metadata": {},
   "outputs": [],
   "source": [
    "import requests\n",
    "import re\n",
    "import time\n",
    "\n",
    "import httpx\n",
    "import asyncio"
   ]
  },
  {
   "cell_type": "code",
   "execution_count": 3,
   "id": "a16d6c08",
   "metadata": {},
   "outputs": [],
   "source": [
    "def count_https_in_web_pages():\n",
    "    with open('top15USWebsites.txt', 'r', encoding='utf-8') as f:\n",
    "        urls = [line.strip() for line in f.readlines()]\n",
    "\n",
    "    htmls = []\n",
    "    for url in urls:\n",
    "        htmls = htmls + [requests.get(url).text]\n",
    "\n",
    "    count_https = 0\n",
    "    count_http = 0\n",
    "    for html in htmls:\n",
    "        count_https += len(re.findall(\"https://\", html))\n",
    "        count_http += len(re.findall(\"http://\", html))\n",
    "\n",
    "    print('finished parsing')\n",
    "    time.sleep(2.0)\n",
    "    print(f'{count_https=}')\n",
    "    print(f'{count_http=}')\n",
    "    print(f'{count_https/count_http=}')"
   ]
  },
  {
   "cell_type": "code",
   "execution_count": 4,
   "id": "ec351eba",
   "metadata": {},
   "outputs": [],
   "source": [
    "def main_old():\n",
    "    import cProfile\n",
    "    import pstats\n",
    "\n",
    "    with cProfile.Profile() as pr:\n",
    "        count_https_in_web_pages()\n",
    "\n",
    "    stats = pstats.Stats(pr)\n",
    "    stats.sort_stats(pstats.SortKey.TIME)\n",
    "    # stats.print_stats()\n",
    "    stats.dump_stats(filename='needs_profiling.prof')"
   ]
  },
  {
   "cell_type": "code",
   "execution_count": 5,
   "id": "69a00946",
   "metadata": {},
   "outputs": [
    {
     "name": "stdout",
     "output_type": "stream",
     "text": [
      "finished parsing\n",
      "count_https=2156\n",
      "count_http=74\n",
      "count_https/count_http=29.135135135135137\n"
     ]
    }
   ],
   "source": [
    "main_old()"
   ]
  },
  {
   "cell_type": "code",
   "execution_count": 7,
   "id": "e716b12d",
   "metadata": {},
   "outputs": [],
   "source": [
    "async def better_count_https_in_web_pages():\n",
    "    with open('top15USWebsites.txt', 'r', encoding='utf-8') as f:\n",
    "        urls = [line.strip() for line in f.readlines()]\n",
    "\n",
    "    async with httpx.AsyncClient() as client:\n",
    "        tasks = (client.get(url) for url in urls)\n",
    "        reqs = await asyncio.gather(*tasks)\n",
    "\n",
    "    htmls = [req.text for req in reqs]\n",
    "\n",
    "    count_https = 0\n",
    "    count_http = 0\n",
    "    for html in htmls:\n",
    "        count_https += len(re.findall(\"https://\", html))\n",
    "        count_http += len(re.findall(\"http://\", html))\n",
    "\n",
    "    print('finished parsing')\n",
    "    print(f'{count_https=}')\n",
    "    print(f'{count_http=}')\n",
    "    print(f'{count_https/count_http=}')"
   ]
  },
  {
   "cell_type": "code",
   "execution_count": 8,
   "id": "e8b5ceaf",
   "metadata": {},
   "outputs": [],
   "source": [
    "def main_new():\n",
    "    import cProfile\n",
    "    import pstats\n",
    "\n",
    "    with cProfile.Profile() as pr:\n",
    "        asyncio.run(better_count_https_in_web_pages())\n",
    "\n",
    "    stats = pstats.Stats(pr)\n",
    "    stats.sort_stats(pstats.SortKey.TIME)\n",
    "    # stats.print_stats()\n",
    "    stats.dump_stats(filename='needs_profiling.prof')"
   ]
  },
  {
   "cell_type": "code",
   "execution_count": 9,
   "id": "249b18a6",
   "metadata": {},
   "outputs": [
    {
     "ename": "RuntimeError",
     "evalue": "asyncio.run() cannot be called from a running event loop",
     "output_type": "error",
     "traceback": [
      "\u001b[1;31m---------------------------------------------------------------------------\u001b[0m",
      "\u001b[1;31mRuntimeError\u001b[0m                              Traceback (most recent call last)",
      "\u001b[1;32m~\\AppData\\Local\\Temp/ipykernel_13928/467730826.py\u001b[0m in \u001b[0;36m<module>\u001b[1;34m\u001b[0m\n\u001b[1;32m----> 1\u001b[1;33m \u001b[0mmain_new\u001b[0m\u001b[1;33m(\u001b[0m\u001b[1;33m)\u001b[0m\u001b[1;33m\u001b[0m\u001b[1;33m\u001b[0m\u001b[0m\n\u001b[0m",
      "\u001b[1;32m~\\AppData\\Local\\Temp/ipykernel_13928/914165979.py\u001b[0m in \u001b[0;36mmain_new\u001b[1;34m()\u001b[0m\n\u001b[0;32m      4\u001b[0m \u001b[1;33m\u001b[0m\u001b[0m\n\u001b[0;32m      5\u001b[0m     \u001b[1;32mwith\u001b[0m \u001b[0mcProfile\u001b[0m\u001b[1;33m.\u001b[0m\u001b[0mProfile\u001b[0m\u001b[1;33m(\u001b[0m\u001b[1;33m)\u001b[0m \u001b[1;32mas\u001b[0m \u001b[0mpr\u001b[0m\u001b[1;33m:\u001b[0m\u001b[1;33m\u001b[0m\u001b[1;33m\u001b[0m\u001b[0m\n\u001b[1;32m----> 6\u001b[1;33m         \u001b[0masyncio\u001b[0m\u001b[1;33m.\u001b[0m\u001b[0mrun\u001b[0m\u001b[1;33m(\u001b[0m\u001b[0mbetter_count_https_in_web_pages\u001b[0m\u001b[1;33m(\u001b[0m\u001b[1;33m)\u001b[0m\u001b[1;33m)\u001b[0m\u001b[1;33m\u001b[0m\u001b[1;33m\u001b[0m\u001b[0m\n\u001b[0m\u001b[0;32m      7\u001b[0m \u001b[1;33m\u001b[0m\u001b[0m\n\u001b[0;32m      8\u001b[0m     \u001b[0mstats\u001b[0m \u001b[1;33m=\u001b[0m \u001b[0mpstats\u001b[0m\u001b[1;33m.\u001b[0m\u001b[0mStats\u001b[0m\u001b[1;33m(\u001b[0m\u001b[0mpr\u001b[0m\u001b[1;33m)\u001b[0m\u001b[1;33m\u001b[0m\u001b[1;33m\u001b[0m\u001b[0m\n",
      "\u001b[1;32mc:\\users\\prita\\appdata\\local\\programs\\python\\python38\\lib\\asyncio\\runners.py\u001b[0m in \u001b[0;36mrun\u001b[1;34m(main, debug)\u001b[0m\n\u001b[0;32m     31\u001b[0m     \"\"\"\n\u001b[0;32m     32\u001b[0m     \u001b[1;32mif\u001b[0m \u001b[0mevents\u001b[0m\u001b[1;33m.\u001b[0m\u001b[0m_get_running_loop\u001b[0m\u001b[1;33m(\u001b[0m\u001b[1;33m)\u001b[0m \u001b[1;32mis\u001b[0m \u001b[1;32mnot\u001b[0m \u001b[1;32mNone\u001b[0m\u001b[1;33m:\u001b[0m\u001b[1;33m\u001b[0m\u001b[1;33m\u001b[0m\u001b[0m\n\u001b[1;32m---> 33\u001b[1;33m         raise RuntimeError(\n\u001b[0m\u001b[0;32m     34\u001b[0m             \"asyncio.run() cannot be called from a running event loop\")\n\u001b[0;32m     35\u001b[0m \u001b[1;33m\u001b[0m\u001b[0m\n",
      "\u001b[1;31mRuntimeError\u001b[0m: asyncio.run() cannot be called from a running event loop"
     ]
    }
   ],
   "source": [
    "main_new()"
   ]
  },
  {
   "cell_type": "code",
   "execution_count": null,
   "id": "44fc34d5",
   "metadata": {},
   "outputs": [],
   "source": []
  }
 ],
 "metadata": {
  "kernelspec": {
   "display_name": "Python 3 (ipykernel)",
   "language": "python",
   "name": "python3"
  },
  "language_info": {
   "codemirror_mode": {
    "name": "ipython",
    "version": 3
   },
   "file_extension": ".py",
   "mimetype": "text/x-python",
   "name": "python",
   "nbconvert_exporter": "python",
   "pygments_lexer": "ipython3",
   "version": "3.8.10"
  }
 },
 "nbformat": 4,
 "nbformat_minor": 5
}
