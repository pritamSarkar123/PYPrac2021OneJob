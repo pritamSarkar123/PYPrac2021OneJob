{
 "cells": [
  {
   "cell_type": "code",
   "execution_count": 7,
   "id": "4d160a92",
   "metadata": {},
   "outputs": [
    {
     "name": "stdout",
     "output_type": "stream",
     "text": [
      "the value is other 🐶\n",
      "str_value = 'other 🐶'\n"
     ]
    }
   ],
   "source": [
    "str_value = \"other 🐶\"\n",
    "\n",
    "print(f'the value is {str_value}')\n",
    "print(f'{str_value = }')"
   ]
  },
  {
   "cell_type": "code",
   "execution_count": 8,
   "id": "e1a151ba",
   "metadata": {},
   "outputs": [
    {
     "name": "stdout",
     "output_type": "stream",
     "text": [
      "num_value = 123\n",
      "num_value % 2 = 1\n"
     ]
    }
   ],
   "source": [
    "num_value = 123\n",
    "\n",
    "print(f'{num_value = }')\n",
    "print(f'{num_value % 2 = }')"
   ]
  },
  {
   "cell_type": "code",
   "execution_count": 22,
   "id": "df29d7a2",
   "metadata": {},
   "outputs": [
    {
     "name": "stdout",
     "output_type": "stream",
     "text": [
      "'other \\U0001f436'\n",
      "other 🐶\n",
      "'other 🐶'\n"
     ]
    }
   ],
   "source": [
    "str_value = \"other 🐶\"\n",
    "print(f'{str_value!a}')\n",
    "print(f'{str_value!s}')\n",
    "print(f'{str_value!r}')"
   ]
  },
  {
   "cell_type": "code",
   "execution_count": 29,
   "id": "d615a6cd",
   "metadata": {},
   "outputs": [
    {
     "name": "stdout",
     "output_type": "stream",
     "text": [
      "2021-10-02\n",
      "now=2021-10-02\n",
      "2021-10-02\n",
      "now=2021-10-02\n",
      "2021-10-02 <class 'str'>\n",
      "123.46\n",
      "num_value=123.46\n",
      "123.46\n"
     ]
    }
   ],
   "source": [
    "import datetime\n",
    "num_value = 123.456\n",
    "now = datetime.datetime.utcnow()\n",
    "\n",
    "fff = \"%Y-%m-%d\"\n",
    "print(f'{now:%Y-%m-%d}')\n",
    "print(f'{now=:%Y-%m-%d}')\n",
    "print(f'{now:{fff}}')\n",
    "print(f'{now=:{fff}}')\n",
    "\n",
    "n = f'{now:%Y-%m-%d}'\n",
    "print(n,type(n))\n",
    "\n",
    "print(f'{num_value:.2f}')\n",
    "print(f'{num_value=:.2f}')\n",
    "\n",
    "nested_format = \".2f\"\n",
    "print(f'{num_value:{nested_format}}')"
   ]
  },
  {
   "cell_type": "code",
   "execution_count": 31,
   "id": "4507ebec",
   "metadata": {},
   "outputs": [
    {
     "name": "stdout",
     "output_type": "stream",
     "text": [
      "MyClass __format__ called with format_spec='blah blah %%MYFORMAT%%'\n",
      "MyClass()\n",
      "MyClass __format__ called with format_spec='blah blah %%MYFORMAT%%'\n",
      "MyClass()=MyClass()\n"
     ]
    }
   ],
   "source": [
    "class MyClass:\n",
    "    def __format__(self, format_spec) -> str:\n",
    "        print(f'MyClass __format__ called with {format_spec=!r}')\n",
    "        return \"MyClass()\"\n",
    "    \n",
    "print(f'{MyClass():blah blah %%MYFORMAT%%}')\n",
    "print(f'{MyClass()=:blah blah %%MYFORMAT%%}')"
   ]
  },
  {
   "cell_type": "code",
   "execution_count": null,
   "id": "c73486be",
   "metadata": {},
   "outputs": [],
   "source": []
  }
 ],
 "metadata": {
  "kernelspec": {
   "display_name": "Python 3 (ipykernel)",
   "language": "python",
   "name": "python3"
  },
  "language_info": {
   "codemirror_mode": {
    "name": "ipython",
    "version": 3
   },
   "file_extension": ".py",
   "mimetype": "text/x-python",
   "name": "python",
   "nbconvert_exporter": "python",
   "pygments_lexer": "ipython3",
   "version": "3.8.10"
  }
 },
 "nbformat": 4,
 "nbformat_minor": 5
}
