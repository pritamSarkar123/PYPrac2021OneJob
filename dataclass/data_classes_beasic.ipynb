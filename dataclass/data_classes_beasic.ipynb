{
 "cells": [
  {
   "cell_type": "markdown",
   "metadata": {},
   "source": [
    "https://www.youtube.com/watch?v=vRVVyl9uaZc&t=212s"
   ]
  },
  {
   "cell_type": "code",
   "execution_count": 31,
   "metadata": {},
   "outputs": [],
   "source": [
    "from dataclasses import dataclass,field"
   ]
  },
  {
   "cell_type": "code",
   "execution_count": 32,
   "metadata": {},
   "outputs": [],
   "source": [
    "#basic class\n",
    "\n",
    "class Person:\n",
    "    name: str \n",
    "    job: str\n",
    "    age: int \n",
    "    def __init__(self,name,job,age):\n",
    "        self.name = name \n",
    "        self.job = job\n",
    "        self.age = age \n",
    "    \n",
    "        \n",
    "        \n",
    "p1 = Person(\"pritam\",\"Jr automation engineer\",26)\n",
    "    "
   ]
  },
  {
   "cell_type": "code",
   "execution_count": 38,
   "metadata": {},
   "outputs": [
    {
     "name": "stdout",
     "output_type": "stream",
     "text": [
      "pritam Jr automation engineer 26 100\n",
      "pritam Jr automation engineer 26 100\n",
      "True\n"
     ]
    }
   ],
   "source": [
    "from dataclasses import dataclass,field\n",
    "\n",
    "@dataclass(order=True)\n",
    "class Person:\n",
    "    sort_index: int = field(init=False) #init_false means no need to initialize\n",
    "    name: str\n",
    "    job: str \n",
    "    age: int\n",
    "    strength: int = 100\n",
    "    def __post_init__(self):\n",
    "        self.sort_index = self.age\n",
    "        # object.__setattr__(self,'sort_index',self.strength)\n",
    "        \n",
    "    def __str__(self):\n",
    "        return f\"{self.name} {self.job} {self.age} {self.strength}\"\n",
    "    \n",
    "p1 = Person(\"pritam\",\"Jr automation engineer\",26)\n",
    "p2 = Person(\"pritam\",\"Jr automation engineer\",26)\n",
    "\n",
    "print(p1)\n",
    "print(p2)\n",
    "\n",
    "print(p2==p1)"
   ]
  },
  {
   "cell_type": "code",
   "execution_count": 4,
   "metadata": {},
   "outputs": [
    {
     "name": "stdout",
     "output_type": "stream",
     "text": [
      "pritam Jr automation engineer 26 100\n",
      "pritam Jr automation engineer 26 100\n",
      "False\n"
     ]
    }
   ],
   "source": [
    "from dataclasses import dataclass,field\n",
    "\n",
    "@dataclass(order=True)\n",
    "class Person:\n",
    "    sort_index: int = field(init=False,repr=False) #repr=False means do not print the data\n",
    "    name: str\n",
    "    job: str \n",
    "    age: int\n",
    "    strength: int = 100\n",
    "    def __post_init__(self):\n",
    "        self.sort_index = self.age\n",
    "        # object.__setattr__(self,'sort_index',self.strength)\n",
    "        \n",
    "    def __str__(self):\n",
    "        return f\"{self.name} {self.job} {self.age} {self.strength}\"\n",
    "    \n",
    "p1 = Person(\"pritam\",\"Jr automation engineer\",26)\n",
    "p2 = Person(\"pritam\",\"Jr automation engineer\",26)\n",
    "\n",
    "print(p1)\n",
    "print(p2)\n",
    "\n",
    "print(p2>p1)\n",
    "\n",
    "# d ={p1:1,p2:2}\n",
    "# print(d)\n",
    "\n",
    "\n",
    "# TypeError                                 Traceback (most recent call last)\n",
    "# ~\\AppData\\Local\\Temp/ipykernel_5548/3030971170.py in <module>\n",
    "#      23 print(p2>p1)\n",
    "#      24 \n",
    "# ---> 25 d ={p1:1,p2:2}\n",
    "#      26 print(d)\n",
    "\n",
    "# TypeError: unhashable type: 'Person'"
   ]
  },
  {
   "cell_type": "code",
   "execution_count": 2,
   "metadata": {},
   "outputs": [
    {
     "name": "stdout",
     "output_type": "stream",
     "text": [
      "pritam Jr automation engineer 26 100\n",
      "pritam Jr automation engineer 27 100\n",
      "True\n",
      "{Person(name='pritam', job='Jr automation engineer', age=26, strength=100): 1, Person(name='pritam', job='Jr automation engineer', age=27, strength=100): 2}\n"
     ]
    }
   ],
   "source": [
    "from dataclasses import dataclass,field\n",
    "\n",
    "@dataclass(order=True,frozen=True) # now the obj will be unaltered hashable\n",
    "class Person:\n",
    "    sort_index: int = field(init=False,repr=False) #repr=False means do not print the data\n",
    "    name: str\n",
    "    job: str \n",
    "    age: int\n",
    "    strength: int = 100\n",
    "    def __post_init__(self):\n",
    "        object.__setattr__(self,'sort_index',self.strength)\n",
    "        \n",
    "    def __str__(self):\n",
    "        return f\"{self.name} {self.job} {self.age} {self.strength}\"\n",
    "    \n",
    "p1 = Person(\"pritam\",\"Jr automation engineer\",26)\n",
    "p2 = Person(\"pritam\",\"Jr automation engineer\",27)\n",
    "\n",
    "print(p1)\n",
    "print(p2)\n",
    "\n",
    "print(p2>p1)\n",
    "\n",
    "d ={p1:1,p2:2}\n",
    "print(d)"
   ]
  },
  {
   "cell_type": "markdown",
   "metadata": {},
   "source": [
    "# Practice"
   ]
  },
  {
   "cell_type": "code",
   "execution_count": 3,
   "metadata": {},
   "outputs": [
    {
     "name": "stdout",
     "output_type": "stream",
     "text": [
      "True\n"
     ]
    }
   ],
   "source": [
    "from dataclasses import dataclass,field\n",
    "\n",
    "@dataclass(order=True,frozen=True)\n",
    "class Person:\n",
    "    sorting_index_one: str = field(init=False,repr=False)\n",
    "    sorting_index_two: int = field(init=False,repr=False)\n",
    "    name: str \n",
    "    age: int = 20\n",
    "    def __post_init__(self):\n",
    "        object.__setattr__(self,'sorting_index_one',self.name)\n",
    "        object.__setattr__(self,'sorting_index_two',self.age)\n",
    "        \n",
    "p1 = Person(\"Pritam\",26)\n",
    "p2 = Person(\"Pritam\",27)\n",
    "print(p1 != p2)"
   ]
  },
  {
   "cell_type": "code",
   "execution_count": 4,
   "metadata": {},
   "outputs": [
    {
     "name": "stdout",
     "output_type": "stream",
     "text": [
      "1\n"
     ]
    }
   ],
   "source": [
    "d = {p1:1,p2:2}\n",
    "print(d[Person(\"Pritam\",26)])"
   ]
  },
  {
   "cell_type": "code",
   "execution_count": null,
   "metadata": {},
   "outputs": [],
   "source": []
  }
 ],
 "metadata": {
  "interpreter": {
   "hash": "08f4676b2e4aa106f3f44f076be63fe0cf9b1f57ee9f6bbbd5acb3d698070817"
  },
  "kernelspec": {
   "display_name": "Python 3.8.10 64-bit",
   "name": "python3"
  },
  "language_info": {
   "codemirror_mode": {
    "name": "ipython",
    "version": 3
   },
   "file_extension": ".py",
   "mimetype": "text/x-python",
   "name": "python",
   "nbconvert_exporter": "python",
   "pygments_lexer": "ipython3",
   "version": "3.8.10"
  },
  "orig_nbformat": 4
 },
 "nbformat": 4,
 "nbformat_minor": 2
}
