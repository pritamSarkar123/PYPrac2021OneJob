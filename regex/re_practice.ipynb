{
 "cells": [
  {
   "cell_type": "code",
   "execution_count": 24,
   "metadata": {},
   "outputs": [],
   "source": [
    "import re"
   ]
  },
  {
   "cell_type": "code",
   "execution_count": 25,
   "metadata": {},
   "outputs": [],
   "source": [
    "text_to_search='''\n",
    "s simply dummy text of the printing and type bat setting industry. Lorem Ipsum has been the industry's standard dummy text ever since the 1500s, when cat an unknown 800-555-4321 printer to Mr Golu ok a pat galley of type and Mrs. Vanu scrambled it to ma Mr. T ke a type specimen book. It has survived not only five centuries, but also the sex.com leap into electronic typesetting, remaining essentially unchanged. It was popularised 321-555-4321 in the 1960s with the release of Letraset sheets containing Lorem Ipsum passages, and more recently with desktop publishing software like Aldus PageMaker including versions of Lorem Ipsum.\n",
    "s simply dummy text of the printing and typesetting industry. Lorem Ipsum has been the industry's standard dummy text ever since the 1500s, when an 900-555-4321 unknown printer Mr. Pritam took a ga mat lley of type Ms Eshani and scrambled it to make a type specimen book. It has survived not only five centuries, but also the leap into electronic typesetting, remaining essentially Ha HaHa unchanged. It was 123.555.1234 popularised in the 1960s with the release of Letraset sheets containing Lorem Ipsum passages, and more 123*555*1234 recently with desktop publishing software like Aldus PageMaker including versions of Lorem Ipsum.\n",
    "'''\n",
    "\n",
    "def matches(text_to_search,pattern):\n",
    "\tpattern=re.compile(pattern)\n",
    "\tspans=[]\n",
    "\tvalues=[]\n",
    "\tmatches=pattern.finditer(text_to_search)\n",
    "\tfor match in matches:\n",
    "\t    spans.append(match.span())\n",
    "\t    values.append(match.group())\n",
    "\tprint(spans[:6])\n",
    "\tprint(values[:6])"
   ]
  },
  {
   "cell_type": "code",
   "execution_count": 26,
   "metadata": {},
   "outputs": [
    {
     "name": "stdout",
     "output_type": "stream",
     "text": [
      "[(166, 178), (434, 446), (784, 796), (1044, 1056)]\n",
      "['800-555-4321', '321-555-4321', '900-555-4321', '123.555.1234']\n"
     ]
    }
   ],
   "source": [
    "matches(text_to_search,r'\\d\\d\\d[-\\.]\\d\\d\\d[-\\.]\\d\\d\\d\\d') # phone number"
   ]
  },
  {
   "cell_type": "code",
   "execution_count": 27,
   "metadata": {},
   "outputs": [
    {
     "name": "stdout",
     "output_type": "stream",
     "text": [
      "[(151, 154), (203, 206), (834, 837)]\n",
      "['cat', 'pat', 'mat']\n"
     ]
    }
   ],
   "source": [
    "matches(text_to_search,r\"[^b]at\")"
   ]
  },
  {
   "cell_type": "code",
   "execution_count": 28,
   "metadata": {},
   "outputs": [
    {
     "name": "stdout",
     "output_type": "stream",
     "text": [
      "[(190, 197), (226, 235), (255, 260), (813, 823), (851, 860)]\n",
      "['Mr Golu', 'Mrs. Vanu', 'Mr. T', 'Mr. Pritam', 'Ms Eshani']\n"
     ]
    }
   ],
   "source": [
    "matches(text_to_search,r'\\bM(r|s|rs)\\.?\\s[A-Z]\\w*')"
   ]
  },
  {
   "cell_type": "markdown",
   "metadata": {},
   "source": [
    "# findall"
   ]
  },
  {
   "cell_type": "code",
   "execution_count": 29,
   "metadata": {},
   "outputs": [
    {
     "name": "stdout",
     "output_type": "stream",
     "text": [
      "['ai', 'ai']\n"
     ]
    }
   ],
   "source": [
    "text=\"The rain in Spain\"\n",
    "x=re.findall(\"ai\",text)\n",
    "print(x)"
   ]
  },
  {
   "cell_type": "markdown",
   "metadata": {},
   "source": [
    "# finditer"
   ]
  },
  {
   "cell_type": "code",
   "execution_count": 30,
   "metadata": {},
   "outputs": [
    {
     "name": "stdout",
     "output_type": "stream",
     "text": [
      "<re.Match object; span=(12, 17), match='Spain'>\n",
      "<re.Match object; span=(30, 35), match='Spain'>\n",
      "<re.Match object; span=(48, 53), match='Spain'>\n",
      "<re.Match object; span=(66, 71), match='Spain'>\n",
      "<class 'callable_iterator'>\n"
     ]
    }
   ],
   "source": [
    "text=\"The rain in Spain,The rain in Spain.The rain in Spain The rain in Spain\"\n",
    "pattern=re.compile(r\"\\bS\\w+\")\n",
    "results=re.finditer(pattern,text)\n",
    "for result in results:\n",
    "\tprint(result)\n",
    "print(type(results))"
   ]
  },
  {
   "cell_type": "markdown",
   "metadata": {},
   "source": [
    "# finditer re.I"
   ]
  },
  {
   "cell_type": "code",
   "execution_count": 31,
   "metadata": {},
   "outputs": [
    {
     "name": "stdout",
     "output_type": "stream",
     "text": [
      "<re.Match object; span=(12, 17), match='Spain'>\n",
      "<re.Match object; span=(30, 35), match='Spain'>\n",
      "<re.Match object; span=(48, 53), match='spain'>\n",
      "<re.Match object; span=(66, 71), match='Spain'>\n",
      "<class 'callable_iterator'>\n"
     ]
    }
   ],
   "source": [
    "text=\"The rain in Spain,The rain in Spain.The rain in spain The rain in Spain\"\n",
    "pattern=re.compile(r\"\\bS\\w+\",re.I) # re.I for ignoring case used at the time of pattern compilation\n",
    "results=re.finditer(pattern,text)\n",
    "for result in results:\n",
    "\tprint(result)\n",
    "print(type(results))"
   ]
  },
  {
   "cell_type": "markdown",
   "metadata": {},
   "source": [
    "# search"
   ]
  },
  {
   "cell_type": "code",
   "execution_count": 32,
   "metadata": {},
   "outputs": [
    {
     "name": "stdout",
     "output_type": "stream",
     "text": [
      "<re.Match object; span=(0, 17), match='The rain in Spain'>\n",
      "<class 're.Match'>\n",
      "from 0 to 17\n"
     ]
    }
   ],
   "source": [
    "# Search the string to see if it starts with \"The\" and ends with \"Spain\":\n",
    "\n",
    "text=\"The rain in Spain\"\n",
    "x=re.search(\"^The.*Spain$\",text)\n",
    "print(x)\n",
    "print(type(x))\n",
    "# <re.Match object; span=(0, 17), match='The rain in Spain'>\n",
    "# <class 're.Match'>\n",
    "if x:\n",
    "\tprint(f\"from {x.start()} to {x.end()}\")\n",
    "else:\n",
    "\tprint(\"Not found\")"
   ]
  },
  {
   "cell_type": "code",
   "execution_count": 33,
   "metadata": {},
   "outputs": [
    {
     "name": "stdout",
     "output_type": "stream",
     "text": [
      "<re.Match object; span=(5, 7), match='ai'>\n"
     ]
    }
   ],
   "source": [
    "text=\"The rain in Spain\"\n",
    "x=re.search(\"ai\",text) # returns first match\n",
    "print(x)"
   ]
  },
  {
   "cell_type": "code",
   "execution_count": 34,
   "metadata": {},
   "outputs": [
    {
     "name": "stdout",
     "output_type": "stream",
     "text": [
      "<re.Match object; span=(12, 17), match='Spain'> (12, 17)\n",
      "The rain in Spain\n",
      "Spain\n",
      "()\n"
     ]
    }
   ],
   "source": [
    "text=\"The rain in Spain\"\n",
    "# any word starts with \"\\bS\\w+\" , 1st occurance\n",
    "x=re.search(r\"\\bS\\w+\",text)\n",
    "print(x,x.span())\n",
    "print(x.string)\n",
    "print(x.group())\n",
    "print(x.groups())"
   ]
  },
  {
   "cell_type": "code",
   "execution_count": 35,
   "metadata": {},
   "outputs": [
    {
     "name": "stdout",
     "output_type": "stream",
     "text": [
      "<re.Match object; span=(12, 17), match='Spain'>\n",
      "<re.Match object; span=(12, 17), match='Spain'>\n"
     ]
    }
   ],
   "source": [
    "text=\"The rain in Spain\"\n",
    "pattern=re.compile(r\"\\bS\\w+\")\n",
    "x=re.search(pattern,text)\n",
    "print(x)\n",
    "x=pattern.search(text)\n",
    "print(x)"
   ]
  },
  {
   "cell_type": "markdown",
   "metadata": {},
   "source": [
    "# sub"
   ]
  },
  {
   "cell_type": "code",
   "execution_count": 36,
   "metadata": {},
   "outputs": [
    {
     "name": "stdout",
     "output_type": "stream",
     "text": [
      "The-rain-in-Spain\n",
      "The-rain-in Spain\n"
     ]
    }
   ],
   "source": [
    "text=\"The rain in Spain\"\n",
    "x=re.sub(r\"\\s\",\"-\",text)\n",
    "print(x)\n",
    "# The-rain-in-Spain\n",
    "p1 = re.compile(r\"\\s\")\n",
    "y =p1.sub(\"-\",text,2)\n",
    "# y=re.sub(,\"-\",text,2) # 2<- nuber of times from begining\n",
    "print(y)"
   ]
  },
  {
   "cell_type": "code",
   "execution_count": null,
   "metadata": {},
   "outputs": [],
   "source": []
  }
 ],
 "metadata": {
  "interpreter": {
   "hash": "08f4676b2e4aa106f3f44f076be63fe0cf9b1f57ee9f6bbbd5acb3d698070817"
  },
  "kernelspec": {
   "display_name": "Python 3.8.10 64-bit",
   "name": "python3"
  },
  "language_info": {
   "codemirror_mode": {
    "name": "ipython",
    "version": 3
   },
   "file_extension": ".py",
   "mimetype": "text/x-python",
   "name": "python",
   "nbconvert_exporter": "python",
   "pygments_lexer": "ipython3",
   "version": "3.8.10"
  },
  "orig_nbformat": 4
 },
 "nbformat": 4,
 "nbformat_minor": 2
}
