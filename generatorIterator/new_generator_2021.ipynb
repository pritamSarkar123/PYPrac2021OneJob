{
 "cells": [
  {
   "cell_type": "markdown",
   "metadata": {},
   "source": [
    "https://www.youtube.com/watch?v=gMompY5MyPg"
   ]
  },
  {
   "cell_type": "code",
   "execution_count": 2,
   "metadata": {},
   "outputs": [
    {
     "name": "stdout",
     "output_type": "stream",
     "text": [
      "2\n",
      "3\n",
      "5\n",
      "7\n",
      "11\n",
      "13\n",
      "17\n",
      "19\n",
      "23\n",
      "29\n",
      "31\n",
      "37\n",
      "41\n",
      "43\n",
      "47\n",
      "53\n",
      "59\n",
      "61\n",
      "67\n",
      "71\n",
      "73\n",
      "79\n",
      "83\n",
      "89\n",
      "97\n",
      "101\n"
     ]
    }
   ],
   "source": [
    "import itertools \n",
    "\n",
    "def prime_numbers():\n",
    "    \n",
    "    # 1st prime number \n",
    "    yield 2\n",
    "    \n",
    "    prime_cache = [2]\n",
    "    \n",
    "    for number in itertools.count(3,2):\n",
    "        is_prime = True \n",
    "        \n",
    "        for prime in prime_cache:\n",
    "            \n",
    "            if not number % prime: \n",
    "                is_prime = False\n",
    "                break \n",
    "        \n",
    "        if is_prime:\n",
    "            prime_cache.append(number)\n",
    "            yield number \n",
    "            \n",
    "\n",
    "for prime in prime_numbers():\n",
    "    print(prime)\n",
    "    \n",
    "    if prime > 100:\n",
    "        break"
   ]
  },
  {
   "cell_type": "code",
   "execution_count": 3,
   "metadata": {},
   "outputs": [
    {
     "name": "stdout",
     "output_type": "stream",
     "text": [
      "1\n",
      "4\n",
      "9\n",
      "16\n",
      "25\n",
      "36\n",
      "49\n",
      "64\n",
      "81\n",
      "100\n",
      "121\n"
     ]
    }
   ],
   "source": [
    "squares = (x**2 for x in itertools.count(1))\n",
    "\n",
    "for number in squares:\n",
    "    print(number)\n",
    "    \n",
    "    if number > 100:\n",
    "        squares.close()"
   ]
  },
  {
   "cell_type": "code",
   "execution_count": null,
   "metadata": {},
   "outputs": [],
   "source": []
  }
 ],
 "metadata": {
  "interpreter": {
   "hash": "08f4676b2e4aa106f3f44f076be63fe0cf9b1f57ee9f6bbbd5acb3d698070817"
  },
  "kernelspec": {
   "display_name": "Python 3.8.10 64-bit",
   "name": "python3"
  },
  "language_info": {
   "codemirror_mode": {
    "name": "ipython",
    "version": 3
   },
   "file_extension": ".py",
   "mimetype": "text/x-python",
   "name": "python",
   "nbconvert_exporter": "python",
   "pygments_lexer": "ipython3",
   "version": "3.8.10"
  },
  "orig_nbformat": 4
 },
 "nbformat": 4,
 "nbformat_minor": 2
}
