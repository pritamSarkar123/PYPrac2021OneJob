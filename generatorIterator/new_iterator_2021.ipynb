{
 "cells": [
  {
   "cell_type": "markdown",
   "metadata": {},
   "source": [
    "https://www.youtube.com/watch?v=WR7mO_jYN9g"
   ]
  },
  {
   "cell_type": "code",
   "execution_count": 1,
   "metadata": {},
   "outputs": [],
   "source": [
    "class Portfolio:\n",
    "    def __init__(self):\n",
    "        self.holdings = {} # key = ticker, val = number of shares\n",
    "    \n",
    "    def buy(self,ticker,shares):\n",
    "        self.holdings[ticker] = self.holdings.get(ticker,0) + shares\n",
    "        \n",
    "    def sell(self,ticker,shares):\n",
    "        self.holdings[ticker] = self.holdings.get(ticker,0) - shares \n",
    "        \n",
    "    def __iter__(self):\n",
    "        return iter(self.holdings.items())"
   ]
  },
  {
   "cell_type": "code",
   "execution_count": 3,
   "metadata": {},
   "outputs": [
    {
     "name": "stdout",
     "output_type": "stream",
     "text": [
      "ALPHA 10\n",
      "BETA 23\n",
      "GAMMA 29\n"
     ]
    }
   ],
   "source": [
    "p = Portfolio()\n",
    "p.buy('ALPHA',15)\n",
    "p.buy('BETA',23)\n",
    "p.buy('GAMMA',9)\n",
    "p.buy('GAMMA',20)\n",
    "p.sell('ALPHA',5)\n",
    "\n",
    "for (ticker,shares) in p:\n",
    "    print(ticker,shares)"
   ]
  },
  {
   "cell_type": "code",
   "execution_count": 8,
   "metadata": {},
   "outputs": [
    {
     "name": "stdout",
     "output_type": "stream",
     "text": [
      "(('2', 'Hearts'), ('2', 'Clubs'), ('2', 'Diamonds'), ('2', 'Spades'), ('3', 'Hearts'))\n",
      "2598960\n"
     ]
    }
   ],
   "source": [
    "import itertools\n",
    "\n",
    "ranks = [str(num) for num in range(2,11)] + ['J','Q','K','A']\n",
    "\n",
    "suits = ['Hearts','Clubs','Diamonds','Spades']\n",
    "\n",
    "\n",
    "deck = [card for card in itertools.product(ranks,suits)]\n",
    "\n",
    "\n",
    "hands = [hand for hand in itertools.combinations(deck,5)]\n",
    "\n",
    "print(hands[0])\n",
    "\n",
    "print(len(hands))"
   ]
  },
  {
   "cell_type": "code",
   "execution_count": null,
   "metadata": {},
   "outputs": [],
   "source": []
  }
 ],
 "metadata": {
  "interpreter": {
   "hash": "08f4676b2e4aa106f3f44f076be63fe0cf9b1f57ee9f6bbbd5acb3d698070817"
  },
  "kernelspec": {
   "display_name": "Python 3.8.10 64-bit",
   "name": "python3"
  },
  "language_info": {
   "codemirror_mode": {
    "name": "ipython",
    "version": 3
   },
   "file_extension": ".py",
   "mimetype": "text/x-python",
   "name": "python",
   "nbconvert_exporter": "python",
   "pygments_lexer": "ipython3",
   "version": "3.8.10"
  },
  "orig_nbformat": 4
 },
 "nbformat": 4,
 "nbformat_minor": 2
}
